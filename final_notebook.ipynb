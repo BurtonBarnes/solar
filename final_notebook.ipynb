{
 "cells": [
  {
   "cell_type": "markdown",
   "id": "298e00bf",
   "metadata": {},
   "source": [
    "# Solar\n",
    "## Goal\n",
    "* Explore power and what types effect they have\n",
    "\n",
    "## Imports"
   ]
  },
  {
   "cell_type": "code",
   "execution_count": 1,
   "id": "8b1a640a",
   "metadata": {},
   "outputs": [],
   "source": [
    "import pandas as pd\n",
    "import numpy as np\n",
    "import os\n",
    "import matplotlib.pyplot as plt\n",
    "import statistics\n",
    "\n",
    "# acquire\n",
    "from pydataset import data\n",
    "import seaborn as sns\n",
    "\n",
    "# turn off pink warning boxes\n",
    "import warnings\n",
    "warnings.filterwarnings(\"ignore\")\n",
    "\n",
    "%matplotlib inline\n",
    "import pydataset\n",
    "from sklearn.neighbors import KNeighborsClassifier\n",
    "from sklearn.preprocessing import MinMaxScaler, StandardScaler, RobustScaler, QuantileTransformer\n",
    "from scipy.stats import norm\n",
    "import warnings\n",
    "warnings.filterwarnings(\"ignore\")\n",
    "from sklearn.model_selection import train_test_split\n",
    "from sklearn.linear_model import LinearRegression\n",
    "\n",
    "np.random.seed(123)"
   ]
  },
  {
   "cell_type": "markdown",
   "id": "c14748bf",
   "metadata": {},
   "source": [
    "# Acquire\n",
    "* Data acquired from kaggle\n",
    "* Import from Plant_1_Generation_Data\n",
    "* Dataframe contained 68778 rows and 6 columns\n",
    "* Each row represents a day for a powerplant\n",
    "* Each column represents a feature of the powerplant\n",
    "* Power Plant used is Plant 4135001\n",
    "\n",
    "# Prepare\n",
    "* Removed columns that did not contain useful information. Including Sorce Key and Plant ID\n",
    "* Get a overview of the data\n",
    "\n",
    "# Data Dictionary\n",
    "| Feature | Definition |\n",
    "|:--------|:-----------|\n",
    "|DC_POWER| The amount of DC power generated|\n",
    "|AC_POWER| The amount of AC power generated|\n",
    "|DAILY_YIELD| The total of AC and DC power generated|\n",
    "|TOTAL_YIELD| The total yield that the plant has generated over its entire life|"
   ]
  },
  {
   "cell_type": "code",
   "execution_count": 2,
   "id": "5cc36baa",
   "metadata": {},
   "outputs": [],
   "source": [
    "# Acquire data from kaggle\n",
    "df = pd.read_csv('Plant_1_Generation_Data.csv', index_col=0)"
   ]
  },
  {
   "cell_type": "code",
   "execution_count": 3,
   "id": "51287b7c",
   "metadata": {},
   "outputs": [],
   "source": [
    "# drop columns\n",
    "df = df.drop(columns=['SOURCE_KEY', 'PLANT_ID'])"
   ]
  },
  {
   "cell_type": "markdown",
   "id": "f2cee13d",
   "metadata": {},
   "source": [
    "### A brief look at the data"
   ]
  },
  {
   "cell_type": "code",
   "execution_count": 4,
   "id": "5bc926e7",
   "metadata": {},
   "outputs": [
    {
     "data": {
      "text/html": [
       "<div>\n",
       "<style scoped>\n",
       "    .dataframe tbody tr th:only-of-type {\n",
       "        vertical-align: middle;\n",
       "    }\n",
       "\n",
       "    .dataframe tbody tr th {\n",
       "        vertical-align: top;\n",
       "    }\n",
       "\n",
       "    .dataframe thead th {\n",
       "        text-align: right;\n",
       "    }\n",
       "</style>\n",
       "<table border=\"1\" class=\"dataframe\">\n",
       "  <thead>\n",
       "    <tr style=\"text-align: right;\">\n",
       "      <th></th>\n",
       "      <th>DC_POWER</th>\n",
       "      <th>AC_POWER</th>\n",
       "      <th>DAILY_YIELD</th>\n",
       "      <th>TOTAL_YIELD</th>\n",
       "    </tr>\n",
       "    <tr>\n",
       "      <th>DATE_TIME</th>\n",
       "      <th></th>\n",
       "      <th></th>\n",
       "      <th></th>\n",
       "      <th></th>\n",
       "    </tr>\n",
       "  </thead>\n",
       "  <tbody>\n",
       "    <tr>\n",
       "      <th>15-05-2020 00:00</th>\n",
       "      <td>0.0</td>\n",
       "      <td>0.0</td>\n",
       "      <td>0.0</td>\n",
       "      <td>6259559.0</td>\n",
       "    </tr>\n",
       "    <tr>\n",
       "      <th>15-05-2020 00:00</th>\n",
       "      <td>0.0</td>\n",
       "      <td>0.0</td>\n",
       "      <td>0.0</td>\n",
       "      <td>6183645.0</td>\n",
       "    </tr>\n",
       "    <tr>\n",
       "      <th>15-05-2020 00:00</th>\n",
       "      <td>0.0</td>\n",
       "      <td>0.0</td>\n",
       "      <td>0.0</td>\n",
       "      <td>6987759.0</td>\n",
       "    </tr>\n",
       "    <tr>\n",
       "      <th>15-05-2020 00:00</th>\n",
       "      <td>0.0</td>\n",
       "      <td>0.0</td>\n",
       "      <td>0.0</td>\n",
       "      <td>7602960.0</td>\n",
       "    </tr>\n",
       "    <tr>\n",
       "      <th>15-05-2020 00:00</th>\n",
       "      <td>0.0</td>\n",
       "      <td>0.0</td>\n",
       "      <td>0.0</td>\n",
       "      <td>7158964.0</td>\n",
       "    </tr>\n",
       "  </tbody>\n",
       "</table>\n",
       "</div>"
      ],
      "text/plain": [
       "                  DC_POWER  AC_POWER  DAILY_YIELD  TOTAL_YIELD\n",
       "DATE_TIME                                                     \n",
       "15-05-2020 00:00       0.0       0.0          0.0    6259559.0\n",
       "15-05-2020 00:00       0.0       0.0          0.0    6183645.0\n",
       "15-05-2020 00:00       0.0       0.0          0.0    6987759.0\n",
       "15-05-2020 00:00       0.0       0.0          0.0    7602960.0\n",
       "15-05-2020 00:00       0.0       0.0          0.0    7158964.0"
      ]
     },
     "execution_count": 4,
     "metadata": {},
     "output_type": "execute_result"
    }
   ],
   "source": [
    "df.head()"
   ]
  },
  {
   "cell_type": "markdown",
   "id": "3c7c89b9",
   "metadata": {},
   "source": [
    "# "
   ]
  }
 ],
 "metadata": {
  "kernelspec": {
   "display_name": "Python 3 (ipykernel)",
   "language": "python",
   "name": "python3"
  },
  "language_info": {
   "codemirror_mode": {
    "name": "ipython",
    "version": 3
   },
   "file_extension": ".py",
   "mimetype": "text/x-python",
   "name": "python",
   "nbconvert_exporter": "python",
   "pygments_lexer": "ipython3",
   "version": "3.9.12"
  }
 },
 "nbformat": 4,
 "nbformat_minor": 5
}
