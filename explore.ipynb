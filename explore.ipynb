{
 "cells": [
  {
   "cell_type": "markdown",
   "id": "508fc610",
   "metadata": {},
   "source": [
    "# Solar\n",
    "## Goal\n",
    "* Discover power"
   ]
  },
  {
   "cell_type": "markdown",
   "id": "74e73090",
   "metadata": {},
   "source": [
    "## Imports"
   ]
  },
  {
   "cell_type": "code",
   "execution_count": 1,
   "id": "2e4efbfd",
   "metadata": {},
   "outputs": [],
   "source": [
    "import pandas as pd\n",
    "import numpy as np\n",
    "import os\n",
    "import matplotlib.pyplot as plt\n",
    "import statistics\n",
    "\n",
    "# acquire\n",
    "from pydataset import data\n",
    "import seaborn as sns\n",
    "\n",
    "# turn off pink warning boxes\n",
    "import warnings\n",
    "warnings.filterwarnings(\"ignore\")\n",
    "\n",
    "%matplotlib inline\n",
    "import pydataset\n",
    "from sklearn.neighbors import KNeighborsClassifier\n",
    "from sklearn.preprocessing import MinMaxScaler, StandardScaler, RobustScaler, QuantileTransformer\n",
    "from scipy.stats import norm\n",
    "import warnings\n",
    "warnings.filterwarnings(\"ignore\")\n",
    "from sklearn.model_selection import train_test_split\n",
    "from sklearn.linear_model import LinearRegression\n",
    "\n",
    "np.random.seed(123)"
   ]
  },
  {
   "cell_type": "markdown",
   "id": "d777b59d",
   "metadata": {},
   "source": [
    "# Acquire\n",
    "* Data acquired from kaggle\n",
    "* Import from Plant_1_Generation_Data\n",
    "* Dataframe contained 68778 rows and 6 columns\n",
    "* Each row represents a day for a powerplant\n",
    "* Each column represents a feature of the powerplant"
   ]
  },
  {
   "cell_type": "markdown",
   "id": "4f89122b",
   "metadata": {},
   "source": [
    "# Prepare\n",
    "* Removed columns that did not contain useful information"
   ]
  },
  {
   "cell_type": "markdown",
   "id": "9d43e759",
   "metadata": {},
   "source": [
    "# Data Dictionary\n",
    "| Feature | Definition |\n",
    "|:--------|:-----------|\n",
    "|PLANT_ID| The identification number for the plant|\n",
    "|DC_POWER| The amount of DC power generated|\n",
    "|AC_POWER| The amount of AC power generated|\n",
    "|DAILY_YIELD| The total of AC and DC power generated|\n",
    "|TOTAL_YIELD| The total yield that the plant has generated over its entire life|"
   ]
  },
  {
   "cell_type": "code",
   "execution_count": 2,
   "id": "a4d1c59f",
   "metadata": {},
   "outputs": [
    {
     "data": {
      "text/html": [
       "<div>\n",
       "<style scoped>\n",
       "    .dataframe tbody tr th:only-of-type {\n",
       "        vertical-align: middle;\n",
       "    }\n",
       "\n",
       "    .dataframe tbody tr th {\n",
       "        vertical-align: top;\n",
       "    }\n",
       "\n",
       "    .dataframe thead th {\n",
       "        text-align: right;\n",
       "    }\n",
       "</style>\n",
       "<table border=\"1\" class=\"dataframe\">\n",
       "  <thead>\n",
       "    <tr style=\"text-align: right;\">\n",
       "      <th></th>\n",
       "      <th>PLANT_ID</th>\n",
       "      <th>SOURCE_KEY</th>\n",
       "      <th>DC_POWER</th>\n",
       "      <th>AC_POWER</th>\n",
       "      <th>DAILY_YIELD</th>\n",
       "      <th>TOTAL_YIELD</th>\n",
       "    </tr>\n",
       "    <tr>\n",
       "      <th>DATE_TIME</th>\n",
       "      <th></th>\n",
       "      <th></th>\n",
       "      <th></th>\n",
       "      <th></th>\n",
       "      <th></th>\n",
       "      <th></th>\n",
       "    </tr>\n",
       "  </thead>\n",
       "  <tbody>\n",
       "    <tr>\n",
       "      <th>15-05-2020 00:00</th>\n",
       "      <td>4135001</td>\n",
       "      <td>1BY6WEcLGh8j5v7</td>\n",
       "      <td>0.0</td>\n",
       "      <td>0.0</td>\n",
       "      <td>0.0</td>\n",
       "      <td>6259559.0</td>\n",
       "    </tr>\n",
       "    <tr>\n",
       "      <th>15-05-2020 00:00</th>\n",
       "      <td>4135001</td>\n",
       "      <td>1IF53ai7Xc0U56Y</td>\n",
       "      <td>0.0</td>\n",
       "      <td>0.0</td>\n",
       "      <td>0.0</td>\n",
       "      <td>6183645.0</td>\n",
       "    </tr>\n",
       "    <tr>\n",
       "      <th>15-05-2020 00:00</th>\n",
       "      <td>4135001</td>\n",
       "      <td>3PZuoBAID5Wc2HD</td>\n",
       "      <td>0.0</td>\n",
       "      <td>0.0</td>\n",
       "      <td>0.0</td>\n",
       "      <td>6987759.0</td>\n",
       "    </tr>\n",
       "    <tr>\n",
       "      <th>15-05-2020 00:00</th>\n",
       "      <td>4135001</td>\n",
       "      <td>7JYdWkrLSPkdwr4</td>\n",
       "      <td>0.0</td>\n",
       "      <td>0.0</td>\n",
       "      <td>0.0</td>\n",
       "      <td>7602960.0</td>\n",
       "    </tr>\n",
       "    <tr>\n",
       "      <th>15-05-2020 00:00</th>\n",
       "      <td>4135001</td>\n",
       "      <td>McdE0feGgRqW7Ca</td>\n",
       "      <td>0.0</td>\n",
       "      <td>0.0</td>\n",
       "      <td>0.0</td>\n",
       "      <td>7158964.0</td>\n",
       "    </tr>\n",
       "  </tbody>\n",
       "</table>\n",
       "</div>"
      ],
      "text/plain": [
       "                  PLANT_ID       SOURCE_KEY  DC_POWER  AC_POWER  DAILY_YIELD  \\\n",
       "DATE_TIME                                                                      \n",
       "15-05-2020 00:00   4135001  1BY6WEcLGh8j5v7       0.0       0.0          0.0   \n",
       "15-05-2020 00:00   4135001  1IF53ai7Xc0U56Y       0.0       0.0          0.0   \n",
       "15-05-2020 00:00   4135001  3PZuoBAID5Wc2HD       0.0       0.0          0.0   \n",
       "15-05-2020 00:00   4135001  7JYdWkrLSPkdwr4       0.0       0.0          0.0   \n",
       "15-05-2020 00:00   4135001  McdE0feGgRqW7Ca       0.0       0.0          0.0   \n",
       "\n",
       "                  TOTAL_YIELD  \n",
       "DATE_TIME                      \n",
       "15-05-2020 00:00    6259559.0  \n",
       "15-05-2020 00:00    6183645.0  \n",
       "15-05-2020 00:00    6987759.0  \n",
       "15-05-2020 00:00    7602960.0  \n",
       "15-05-2020 00:00    7158964.0  "
      ]
     },
     "execution_count": 2,
     "metadata": {},
     "output_type": "execute_result"
    }
   ],
   "source": [
    "df = pd.read_csv('Plant_1_Generation_Data.csv', index_col=0)\n",
    "df.head()"
   ]
  },
  {
   "cell_type": "code",
   "execution_count": 3,
   "id": "1f33a3e1",
   "metadata": {},
   "outputs": [
    {
     "data": {
      "text/html": [
       "<div>\n",
       "<style scoped>\n",
       "    .dataframe tbody tr th:only-of-type {\n",
       "        vertical-align: middle;\n",
       "    }\n",
       "\n",
       "    .dataframe tbody tr th {\n",
       "        vertical-align: top;\n",
       "    }\n",
       "\n",
       "    .dataframe thead th {\n",
       "        text-align: right;\n",
       "    }\n",
       "</style>\n",
       "<table border=\"1\" class=\"dataframe\">\n",
       "  <thead>\n",
       "    <tr style=\"text-align: right;\">\n",
       "      <th></th>\n",
       "      <th>PLANT_ID</th>\n",
       "      <th>DC_POWER</th>\n",
       "      <th>AC_POWER</th>\n",
       "      <th>DAILY_YIELD</th>\n",
       "      <th>TOTAL_YIELD</th>\n",
       "    </tr>\n",
       "    <tr>\n",
       "      <th>DATE_TIME</th>\n",
       "      <th></th>\n",
       "      <th></th>\n",
       "      <th></th>\n",
       "      <th></th>\n",
       "      <th></th>\n",
       "    </tr>\n",
       "  </thead>\n",
       "  <tbody>\n",
       "    <tr>\n",
       "      <th>15-05-2020 00:00</th>\n",
       "      <td>4135001</td>\n",
       "      <td>0.0</td>\n",
       "      <td>0.0</td>\n",
       "      <td>0.000</td>\n",
       "      <td>6259559.0</td>\n",
       "    </tr>\n",
       "    <tr>\n",
       "      <th>15-05-2020 00:00</th>\n",
       "      <td>4135001</td>\n",
       "      <td>0.0</td>\n",
       "      <td>0.0</td>\n",
       "      <td>0.000</td>\n",
       "      <td>6183645.0</td>\n",
       "    </tr>\n",
       "    <tr>\n",
       "      <th>15-05-2020 00:00</th>\n",
       "      <td>4135001</td>\n",
       "      <td>0.0</td>\n",
       "      <td>0.0</td>\n",
       "      <td>0.000</td>\n",
       "      <td>6987759.0</td>\n",
       "    </tr>\n",
       "    <tr>\n",
       "      <th>15-05-2020 00:00</th>\n",
       "      <td>4135001</td>\n",
       "      <td>0.0</td>\n",
       "      <td>0.0</td>\n",
       "      <td>0.000</td>\n",
       "      <td>7602960.0</td>\n",
       "    </tr>\n",
       "    <tr>\n",
       "      <th>15-05-2020 00:00</th>\n",
       "      <td>4135001</td>\n",
       "      <td>0.0</td>\n",
       "      <td>0.0</td>\n",
       "      <td>0.000</td>\n",
       "      <td>7158964.0</td>\n",
       "    </tr>\n",
       "    <tr>\n",
       "      <th>...</th>\n",
       "      <td>...</td>\n",
       "      <td>...</td>\n",
       "      <td>...</td>\n",
       "      <td>...</td>\n",
       "      <td>...</td>\n",
       "    </tr>\n",
       "    <tr>\n",
       "      <th>17-06-2020 23:45</th>\n",
       "      <td>4135001</td>\n",
       "      <td>0.0</td>\n",
       "      <td>0.0</td>\n",
       "      <td>5967.000</td>\n",
       "      <td>7287002.0</td>\n",
       "    </tr>\n",
       "    <tr>\n",
       "      <th>17-06-2020 23:45</th>\n",
       "      <td>4135001</td>\n",
       "      <td>0.0</td>\n",
       "      <td>0.0</td>\n",
       "      <td>5147.625</td>\n",
       "      <td>7028601.0</td>\n",
       "    </tr>\n",
       "    <tr>\n",
       "      <th>17-06-2020 23:45</th>\n",
       "      <td>4135001</td>\n",
       "      <td>0.0</td>\n",
       "      <td>0.0</td>\n",
       "      <td>5819.000</td>\n",
       "      <td>7251204.0</td>\n",
       "    </tr>\n",
       "    <tr>\n",
       "      <th>17-06-2020 23:45</th>\n",
       "      <td>4135001</td>\n",
       "      <td>0.0</td>\n",
       "      <td>0.0</td>\n",
       "      <td>5817.000</td>\n",
       "      <td>6583369.0</td>\n",
       "    </tr>\n",
       "    <tr>\n",
       "      <th>17-06-2020 23:45</th>\n",
       "      <td>4135001</td>\n",
       "      <td>0.0</td>\n",
       "      <td>0.0</td>\n",
       "      <td>5910.000</td>\n",
       "      <td>7363272.0</td>\n",
       "    </tr>\n",
       "  </tbody>\n",
       "</table>\n",
       "<p>68778 rows × 5 columns</p>\n",
       "</div>"
      ],
      "text/plain": [
       "                  PLANT_ID  DC_POWER  AC_POWER  DAILY_YIELD  TOTAL_YIELD\n",
       "DATE_TIME                                                               \n",
       "15-05-2020 00:00   4135001       0.0       0.0        0.000    6259559.0\n",
       "15-05-2020 00:00   4135001       0.0       0.0        0.000    6183645.0\n",
       "15-05-2020 00:00   4135001       0.0       0.0        0.000    6987759.0\n",
       "15-05-2020 00:00   4135001       0.0       0.0        0.000    7602960.0\n",
       "15-05-2020 00:00   4135001       0.0       0.0        0.000    7158964.0\n",
       "...                    ...       ...       ...          ...          ...\n",
       "17-06-2020 23:45   4135001       0.0       0.0     5967.000    7287002.0\n",
       "17-06-2020 23:45   4135001       0.0       0.0     5147.625    7028601.0\n",
       "17-06-2020 23:45   4135001       0.0       0.0     5819.000    7251204.0\n",
       "17-06-2020 23:45   4135001       0.0       0.0     5817.000    6583369.0\n",
       "17-06-2020 23:45   4135001       0.0       0.0     5910.000    7363272.0\n",
       "\n",
       "[68778 rows x 5 columns]"
      ]
     },
     "execution_count": 3,
     "metadata": {},
     "output_type": "execute_result"
    }
   ],
   "source": [
    "df = df.drop(columns=['SOURCE_KEY'])\n",
    "df"
   ]
  },
  {
   "cell_type": "code",
   "execution_count": 4,
   "id": "443b0730",
   "metadata": {},
   "outputs": [
    {
     "name": "stdout",
     "output_type": "stream",
     "text": [
      "<class 'pandas.core.frame.DataFrame'>\n",
      "Index: 68778 entries, 15-05-2020 00:00 to 17-06-2020 23:45\n",
      "Data columns (total 5 columns):\n",
      " #   Column       Non-Null Count  Dtype  \n",
      "---  ------       --------------  -----  \n",
      " 0   PLANT_ID     68778 non-null  int64  \n",
      " 1   DC_POWER     68778 non-null  float64\n",
      " 2   AC_POWER     68778 non-null  float64\n",
      " 3   DAILY_YIELD  68778 non-null  float64\n",
      " 4   TOTAL_YIELD  68778 non-null  float64\n",
      "dtypes: float64(4), int64(1)\n",
      "memory usage: 3.1+ MB\n"
     ]
    }
   ],
   "source": [
    "df.info()"
   ]
  },
  {
   "cell_type": "code",
   "execution_count": 5,
   "id": "4d7b6345",
   "metadata": {},
   "outputs": [
    {
     "name": "stdout",
     "output_type": "stream",
     "text": [
      "                  PLANT_ID  DC_POWER  AC_POWER  DAILY_YIELD  TOTAL_YIELD\n",
      "DATE_TIME                                                               \n",
      "15-05-2020 00:00   4135001       0.0       0.0        0.000    6259559.0\n",
      "15-05-2020 00:00   4135001       0.0       0.0        0.000    6183645.0\n",
      "15-05-2020 00:00   4135001       0.0       0.0        0.000    6987759.0\n",
      "15-05-2020 00:00   4135001       0.0       0.0        0.000    7602960.0\n",
      "15-05-2020 00:00   4135001       0.0       0.0        0.000    7158964.0\n",
      "...                    ...       ...       ...          ...          ...\n",
      "17-06-2020 23:45   4135001       0.0       0.0     5967.000    7287002.0\n",
      "17-06-2020 23:45   4135001       0.0       0.0     5147.625    7028601.0\n",
      "17-06-2020 23:45   4135001       0.0       0.0     5819.000    7251204.0\n",
      "17-06-2020 23:45   4135001       0.0       0.0     5817.000    6583369.0\n",
      "17-06-2020 23:45   4135001       0.0       0.0     5910.000    7363272.0\n",
      "\n",
      "[68778 rows x 5 columns]\n"
     ]
    }
   ],
   "source": [
    "print(df)"
   ]
  },
  {
   "cell_type": "code",
   "execution_count": 6,
   "id": "3688cd31",
   "metadata": {
    "scrolled": true
   },
   "outputs": [
    {
     "data": {
      "text/html": [
       "<div>\n",
       "<style scoped>\n",
       "    .dataframe tbody tr th:only-of-type {\n",
       "        vertical-align: middle;\n",
       "    }\n",
       "\n",
       "    .dataframe tbody tr th {\n",
       "        vertical-align: top;\n",
       "    }\n",
       "\n",
       "    .dataframe thead th {\n",
       "        text-align: right;\n",
       "    }\n",
       "</style>\n",
       "<table border=\"1\" class=\"dataframe\">\n",
       "  <thead>\n",
       "    <tr style=\"text-align: right;\">\n",
       "      <th></th>\n",
       "      <th>PLANT_ID</th>\n",
       "      <th>DC_POWER</th>\n",
       "      <th>AC_POWER</th>\n",
       "      <th>DAILY_YIELD</th>\n",
       "      <th>TOTAL_YIELD</th>\n",
       "    </tr>\n",
       "  </thead>\n",
       "  <tbody>\n",
       "    <tr>\n",
       "      <th>count</th>\n",
       "      <td>68778.0</td>\n",
       "      <td>68778.000000</td>\n",
       "      <td>68778.000000</td>\n",
       "      <td>68778.000000</td>\n",
       "      <td>6.877800e+04</td>\n",
       "    </tr>\n",
       "    <tr>\n",
       "      <th>mean</th>\n",
       "      <td>4135001.0</td>\n",
       "      <td>3147.426211</td>\n",
       "      <td>307.802752</td>\n",
       "      <td>3295.968737</td>\n",
       "      <td>6.978712e+06</td>\n",
       "    </tr>\n",
       "    <tr>\n",
       "      <th>std</th>\n",
       "      <td>0.0</td>\n",
       "      <td>4036.457169</td>\n",
       "      <td>394.396439</td>\n",
       "      <td>3145.178309</td>\n",
       "      <td>4.162720e+05</td>\n",
       "    </tr>\n",
       "    <tr>\n",
       "      <th>min</th>\n",
       "      <td>4135001.0</td>\n",
       "      <td>0.000000</td>\n",
       "      <td>0.000000</td>\n",
       "      <td>0.000000</td>\n",
       "      <td>6.183645e+06</td>\n",
       "    </tr>\n",
       "    <tr>\n",
       "      <th>25%</th>\n",
       "      <td>4135001.0</td>\n",
       "      <td>0.000000</td>\n",
       "      <td>0.000000</td>\n",
       "      <td>0.000000</td>\n",
       "      <td>6.512003e+06</td>\n",
       "    </tr>\n",
       "    <tr>\n",
       "      <th>50%</th>\n",
       "      <td>4135001.0</td>\n",
       "      <td>429.000000</td>\n",
       "      <td>41.493750</td>\n",
       "      <td>2658.714286</td>\n",
       "      <td>7.146685e+06</td>\n",
       "    </tr>\n",
       "    <tr>\n",
       "      <th>75%</th>\n",
       "      <td>4135001.0</td>\n",
       "      <td>6366.964286</td>\n",
       "      <td>623.618750</td>\n",
       "      <td>6274.000000</td>\n",
       "      <td>7.268706e+06</td>\n",
       "    </tr>\n",
       "    <tr>\n",
       "      <th>max</th>\n",
       "      <td>4135001.0</td>\n",
       "      <td>14471.125000</td>\n",
       "      <td>1410.950000</td>\n",
       "      <td>9163.000000</td>\n",
       "      <td>7.846821e+06</td>\n",
       "    </tr>\n",
       "  </tbody>\n",
       "</table>\n",
       "</div>"
      ],
      "text/plain": [
       "        PLANT_ID      DC_POWER      AC_POWER   DAILY_YIELD   TOTAL_YIELD\n",
       "count    68778.0  68778.000000  68778.000000  68778.000000  6.877800e+04\n",
       "mean   4135001.0   3147.426211    307.802752   3295.968737  6.978712e+06\n",
       "std          0.0   4036.457169    394.396439   3145.178309  4.162720e+05\n",
       "min    4135001.0      0.000000      0.000000      0.000000  6.183645e+06\n",
       "25%    4135001.0      0.000000      0.000000      0.000000  6.512003e+06\n",
       "50%    4135001.0    429.000000     41.493750   2658.714286  7.146685e+06\n",
       "75%    4135001.0   6366.964286    623.618750   6274.000000  7.268706e+06\n",
       "max    4135001.0  14471.125000   1410.950000   9163.000000  7.846821e+06"
      ]
     },
     "execution_count": 6,
     "metadata": {},
     "output_type": "execute_result"
    }
   ],
   "source": [
    "df.describe()"
   ]
  },
  {
   "cell_type": "code",
   "execution_count": 7,
   "id": "d4986fe0",
   "metadata": {},
   "outputs": [
    {
     "data": {
      "text/plain": [
       "PLANT_ID         int64\n",
       "DC_POWER       float64\n",
       "AC_POWER       float64\n",
       "DAILY_YIELD    float64\n",
       "TOTAL_YIELD    float64\n",
       "dtype: object"
      ]
     },
     "execution_count": 7,
     "metadata": {},
     "output_type": "execute_result"
    }
   ],
   "source": [
    "df.dtypes"
   ]
  },
  {
   "cell_type": "code",
   "execution_count": 8,
   "id": "49da8556",
   "metadata": {},
   "outputs": [
    {
     "data": {
      "text/plain": [
       "(68778, 5)"
      ]
     },
     "execution_count": 8,
     "metadata": {},
     "output_type": "execute_result"
    }
   ],
   "source": [
    "df.shape"
   ]
  },
  {
   "cell_type": "code",
   "execution_count": 9,
   "id": "7390baed",
   "metadata": {},
   "outputs": [
    {
     "data": {
      "text/plain": [
       "Index(['PLANT_ID', 'DC_POWER', 'AC_POWER', 'DAILY_YIELD', 'TOTAL_YIELD'], dtype='object')"
      ]
     },
     "execution_count": 9,
     "metadata": {},
     "output_type": "execute_result"
    }
   ],
   "source": [
    "df.columns"
   ]
  },
  {
   "cell_type": "code",
   "execution_count": 10,
   "id": "5a1440e4",
   "metadata": {},
   "outputs": [
    {
     "data": {
      "text/plain": [
       "Index(['15-05-2020 00:00', '15-05-2020 00:00', '15-05-2020 00:00',\n",
       "       '15-05-2020 00:00', '15-05-2020 00:00', '15-05-2020 00:00',\n",
       "       '15-05-2020 00:00', '15-05-2020 00:00', '15-05-2020 00:00',\n",
       "       '15-05-2020 00:00',\n",
       "       ...\n",
       "       '17-06-2020 23:45', '17-06-2020 23:45', '17-06-2020 23:45',\n",
       "       '17-06-2020 23:45', '17-06-2020 23:45', '17-06-2020 23:45',\n",
       "       '17-06-2020 23:45', '17-06-2020 23:45', '17-06-2020 23:45',\n",
       "       '17-06-2020 23:45'],\n",
       "      dtype='object', name='DATE_TIME', length=68778)"
      ]
     },
     "execution_count": 10,
     "metadata": {},
     "output_type": "execute_result"
    }
   ],
   "source": [
    "df.index"
   ]
  },
  {
   "cell_type": "code",
   "execution_count": 11,
   "id": "50e2db48",
   "metadata": {},
   "outputs": [
    {
     "data": {
      "image/png": "[encoded data removed]",
      "text/plain": [
       "<Figure size 432x288 with 1 Axes>"
      ]
     },
     "metadata": {
      "needs_background": "light"
     },
     "output_type": "display_data"
    }
   ],
   "source": [
    "plt.hist(data=df, x='TOTAL_YIELD', edgecolor='black')\n",
    "plt.show()"
   ]
  },
  {
   "cell_type": "code",
   "execution_count": 12,
   "id": "459af5e5",
   "metadata": {},
   "outputs": [
    {
     "data": {
      "image/png": "[encoded data removed]",
      "text/plain": [
       "<Figure size 432x288 with 1 Axes>"
      ]
     },
     "metadata": {
      "needs_background": "light"
     },
     "output_type": "display_data"
    }
   ],
   "source": [
    "plt.hist(data=df, x='AC_POWER', edgecolor='black')\n",
    "plt.show()"
   ]
  },
  {
   "cell_type": "code",
   "execution_count": 13,
   "id": "82f87902",
   "metadata": {},
   "outputs": [
    {
     "data": {
      "image/png": "[encoded data removed]",
      "text/plain": [
       "<Figure size 432x288 with 1 Axes>"
      ]
     },
     "metadata": {
      "needs_background": "light"
     },
     "output_type": "display_data"
    }
   ],
   "source": [
    "plt.hist(data=df, x='DC_POWER', edgecolor='black')\n",
    "plt.show()"
   ]
  },
  {
   "cell_type": "code",
   "execution_count": 15,
   "id": "acfa1525",
   "metadata": {},
   "outputs": [
    {
     "data": {
      "image/png": "[encoded data removed]",
      "text/plain": [
       "<Figure size 432x288 with 1 Axes>"
      ]
     },
     "metadata": {
      "needs_background": "light"
     },
     "output_type": "display_data"
    }
   ],
   "source": [
    "plt.hist(data=df, x='DAILY_YIELD', edgecolor='black')\n",
    "plt.show()"
   ]
  },
  {
   "cell_type": "code",
   "execution_count": null,
   "id": "3a8c3171",
   "metadata": {},
   "outputs": [],
   "source": []
  }
 ],
 "metadata": {
  "kernelspec": {
   "display_name": "Python 3 (ipykernel)",
   "language": "python",
   "name": "python3"
  },
  "language_info": {
   "codemirror_mode": {
    "name": "ipython",
    "version": 3
   },
   "file_extension": ".py",
   "mimetype": "text/x-python",
   "name": "python",
   "nbconvert_exporter": "python",
   "pygments_lexer": "ipython3",
   "version": "3.9.12"
  }
 },
 "nbformat": 4,
 "nbformat_minor": 5
}
